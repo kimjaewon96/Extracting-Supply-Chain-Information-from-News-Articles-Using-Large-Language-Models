{
 "cells": [
  {
   "cell_type": "code",
   "execution_count": 1,
   "metadata": {},
   "outputs": [
    {
     "name": "stderr",
     "output_type": "stream",
     "text": [
      "Some weights of the model checkpoint at dslim/bert-large-NER were not used when initializing BertForTokenClassification: ['bert.pooler.dense.bias', 'bert.pooler.dense.weight']\n",
      "- This IS expected if you are initializing BertForTokenClassification from the checkpoint of a model trained on another task or with another architecture (e.g. initializing a BertForSequenceClassification model from a BertForPreTraining model).\n",
      "- This IS NOT expected if you are initializing BertForTokenClassification from the checkpoint of a model that you expect to be exactly identical (initializing a BertForSequenceClassification model from a BertForSequenceClassification model).\n"
     ]
    }
   ],
   "source": [
    "import datasets\n",
    "from datasets import Dataset\n",
    "from transformers import pipeline\n",
    "from transformers.pipelines.pt_utils import KeyDataset\n",
    "import re\n",
    "import pandas as pd\n",
    "from tqdm.notebook import tqdm\n",
    "from itertools import combinations\n",
    "import ftfy\n",
    "import spacy\n",
    "\n",
    "tqdm.pandas()\n",
    "\n",
    "pipe = pipeline(\"ner\", model=\"dslim/bert-large-NER\", device=\"cuda\")\n",
    "nlp=spacy.load('en_core_web_sm', disable=[\"ner\", \"lematizer\"])"
   ]
  },
  {
   "cell_type": "code",
   "execution_count": 2,
   "metadata": {},
   "outputs": [],
   "source": [
    "def strip_parenthesis(row):\n",
    "    body = ftfy.fix_text(row['body']).replace(\"\\xa0\", \"\").replace(\"\\n\", \" \").replace(\"—\", \"-\")\n",
    "    body = re.sub(r'\\(.*?\\)|\\[.*?\\]|<.*?>|\\{.*?\\}', '', body)\n",
    "    row[\"body\"] = re.sub(r'\\s{2,}', ' ', body).strip()\n",
    "    return row"
   ]
  },
  {
   "cell_type": "code",
   "execution_count": 3,
   "metadata": {},
   "outputs": [
    {
     "data": {
      "application/vnd.jupyter.widget-view+json": {
       "model_id": "a9b8c598a2a14681ba5757009e7619e9",
       "version_major": 2,
       "version_minor": 0
      },
      "text/plain": [
       "  0%|          | 0/16671 [00:00<?, ?it/s]"
      ]
     },
     "metadata": {},
     "output_type": "display_data"
    }
   ],
   "source": [
    "df = pd.read_json(\"mining.json\")\n",
    "df = df.progress_apply(strip_parenthesis, axis=1)"
   ]
  },
  {
   "cell_type": "code",
   "execution_count": 4,
   "metadata": {},
   "outputs": [],
   "source": [
    "docs = nlp.pipe(df['body'].tolist(), n_process=2, batch_size=1000)"
   ]
  },
  {
   "cell_type": "code",
   "execution_count": 5,
   "metadata": {},
   "outputs": [
    {
     "data": {
      "application/vnd.jupyter.widget-view+json": {
       "model_id": "0e00ca21de57417aa19a7ab4c1d1b7ea",
       "version_major": 2,
       "version_minor": 0
      },
      "text/plain": [
       "  0%|          | 0/16671 [00:00<?, ?it/s]"
      ]
     },
     "metadata": {},
     "output_type": "display_data"
    }
   ],
   "source": [
    "res = []\n",
    "for doc in tqdm(docs, total=len(df)):\n",
    "    sents = list(doc.sents)\n",
    "    res.append([sent.text.strip() for sent in sents])"
   ]
  },
  {
   "cell_type": "code",
   "execution_count": 6,
   "metadata": {},
   "outputs": [],
   "source": [
    "df[\"sentences\"] = res\n",
    "df = df.explode(\"sentences\").reset_index(drop=True)\n",
    "df = df.rename(columns={\"sentences\": \"sentence\"}).drop(columns=[\"body\"]).dropna()"
   ]
  },
  {
   "cell_type": "code",
   "execution_count": 7,
   "metadata": {},
   "outputs": [],
   "source": [
    "def process_ner(example):\n",
    "    outputs = pipe(example[\"sentence\"], aggregation_strategy=\"first\")\n",
    "    outputs = [[x for x in output if x['entity_group'] == 'ORG'] for output in outputs]\n",
    "\n",
    "    batch_from = []\n",
    "    batch_to = []\n",
    "    batch_masked_sentences = []\n",
    "\n",
    "    for idx, output in enumerate(outputs):\n",
    "        if len(output) < 2:\n",
    "            batch_from.append(None)\n",
    "            batch_to.append(None)\n",
    "            batch_masked_sentences.append(None)\n",
    "            continue\n",
    "\n",
    "        example_from = []\n",
    "        example_to = []\n",
    "        example_masked_sentences = []\n",
    "\n",
    "        for token_idx_from, token_idx_to in combinations(range(len(output)), r=2):\n",
    "            masked_sentence = example[\"sentence\"][idx]\n",
    "            for token_idx, token in reversed(list(enumerate(output))):\n",
    "                if token_idx == token_idx_to:\n",
    "                    example_to.append(token['word'])\n",
    "                    masked_sentence = masked_sentence[:token['start']] + \"__NE_TO__\" + masked_sentence[token['end']:]\n",
    "                elif token_idx == token_idx_from:\n",
    "                    example_from.append(token['word'])\n",
    "                    masked_sentence = masked_sentence[:token['start']] + \"__NE_FROM__\" + masked_sentence[token['end']:]\n",
    "                else:\n",
    "                    masked_sentence = masked_sentence[:token['start']] + \"__NE_OTHER__\" + masked_sentence[token['end']:]\n",
    "            example_masked_sentences.append(masked_sentence)\n",
    "        batch_from.append(example_from)\n",
    "        batch_to.append(example_to)\n",
    "        batch_masked_sentences.append(example_masked_sentences)\n",
    "\n",
    "    #torch.cuda.empty_cache()  # Clear GPU memory after processing each batch\n",
    "\n",
    "    return {\n",
    "        \"from\": batch_from,\n",
    "        \"to\": batch_to,\n",
    "        \"masked_sentence\": batch_masked_sentences\n",
    "    }\n",
    "ds = Dataset.from_pandas(df)"
   ]
  },
  {
   "cell_type": "code",
   "execution_count": 8,
   "metadata": {},
   "outputs": [
    {
     "data": {
      "application/vnd.jupyter.widget-view+json": {
       "model_id": "3bc3ecb79dc34fd6bc5571b50f686635",
       "version_major": 2,
       "version_minor": 0
      },
      "text/plain": [
       "Map:   0%|          | 0/314184 [00:00<?, ? examples/s]"
      ]
     },
     "metadata": {},
     "output_type": "display_data"
    },
    {
     "name": "stderr",
     "output_type": "stream",
     "text": [
      "You seem to be using the pipelines sequentially on GPU. In order to maximize efficiency please use a dataset\n"
     ]
    }
   ],
   "source": [
    "ds = ds.map(process_ner, batched=True, batch_size=128)"
   ]
  },
  {
   "cell_type": "code",
   "execution_count": 9,
   "metadata": {},
   "outputs": [],
   "source": [
    "df = ds.to_pandas()\n",
    "df = df.drop(columns=[\"__index_level_0__\"])\n",
    "df = df.dropna(subset=[\"from\", \"to\", \"masked_sentence\"]).reset_index(drop=True)\n",
    "df = df.explode([\"from\", \"to\", \"masked_sentence\"]).reset_index(drop=True)"
   ]
  },
  {
   "cell_type": "code",
   "execution_count": 11,
   "metadata": {},
   "outputs": [],
   "source": [
    "def replace_tokens(text):\n",
    "    text = text.replace(\"[FROM]\", \"__NE_FROM__\")\n",
    "    text = text.replace(\"[TO]\", \"__NE_TO__\")\n",
    "    text = text.replace(\"[OTHER]\", \"__NE_OTHER__\")\n",
    "    return text\n",
    "\n",
    "def check_adjacent_tokens(text):\n",
    "    pattern = r'(__NE_FROM__|__NE_TO__|__NE_OTHER__)\\s+(__NE_FROM__|__NE_TO__|__NE_OTHER__)'\n",
    "    match = re.search(pattern, text)\n",
    "    return match is not None\n",
    "\n",
    "df['masked_sentence'] = df['masked_sentence'].apply(replace_tokens)\n",
    "df[\"check_tokens\"] = df[\"masked_sentence\"].apply(check_adjacent_tokens)\n",
    "ddf = df[df['check_tokens'] != True].reset_index(drop=True).drop(columns=\"check_tokens\")\n",
    "ddf.to_json(\"mining_processed.json\", orient=\"records\", force_ascii=False)\n"
   ]
  }
 ],
 "metadata": {
  "kernelspec": {
   "display_name": "Python 3",
   "language": "python",
   "name": "python3"
  },
  "language_info": {
   "codemirror_mode": {
    "name": "ipython",
    "version": 3
   },
   "file_extension": ".py",
   "mimetype": "text/x-python",
   "name": "python",
   "nbconvert_exporter": "python",
   "pygments_lexer": "ipython3",
   "version": "3.11.9"
  }
 },
 "nbformat": 4,
 "nbformat_minor": 2
}
