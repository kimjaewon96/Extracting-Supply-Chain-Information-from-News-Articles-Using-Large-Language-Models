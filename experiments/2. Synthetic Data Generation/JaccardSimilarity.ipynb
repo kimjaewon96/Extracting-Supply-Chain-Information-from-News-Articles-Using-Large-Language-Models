{
 "cells": [
  {
   "cell_type": "code",
   "execution_count": 1,
   "metadata": {},
   "outputs": [
    {
     "name": "stderr",
     "output_type": "stream",
     "text": [
      "[nltk_data] Downloading package punkt to\n",
      "[nltk_data]     C:\\Users\\dol28\\AppData\\Roaming\\nltk_data...\n",
      "[nltk_data]   Package punkt is already up-to-date!\n",
      "[nltk_data] Downloading package stopwords to\n",
      "[nltk_data]     C:\\Users\\dol28\\AppData\\Roaming\\nltk_data...\n",
      "[nltk_data]   Package stopwords is already up-to-date!\n"
     ]
    }
   ],
   "source": [
    "from datasets import load_from_disk, disable_caching\n",
    "import numpy as np\n",
    "from gensim.models import KeyedVectors\n",
    "import nltk\n",
    "from nltk.tokenize import word_tokenize\n",
    "from nltk.corpus import stopwords\n",
    "import string\n",
    "\n",
    "nltk.download('punkt')\n",
    "nltk.download('stopwords')\n",
    "\n",
    "def load_glove_model(glove_file):\n",
    "    model = KeyedVectors.load_word2vec_format(glove_file, no_header=True, binary=False)\n",
    "    return model\n",
    "\n",
    "def preprocess_sentence(sentence, stop_words):\n",
    "    tokens = word_tokenize(sentence.lower())\n",
    "    tokens = [token for token in tokens if token not in string.punctuation and token not in stop_words]\n",
    "    return set(tokens)\n",
    "\n",
    "def jaccard_similarity(set1, set2):\n",
    "    intersection = len(set1.intersection(set2))\n",
    "    union = len(set1.union(set2))\n",
    "    return intersection / union if union != 0 else 0\n",
    "\n",
    "def calculate_jaccard_similarity(sentences):\n",
    "    stop_words = set(stopwords.words('english'))\n",
    "    processed_sentences = [preprocess_sentence(sent, stop_words) for sent in sentences]\n",
    "    n = len(processed_sentences)\n",
    "    similarities = np.zeros((n, n))\n",
    "    for i in range(n):\n",
    "        for j in range(i+1, n):\n",
    "            sim = jaccard_similarity(processed_sentences[i], processed_sentences[j])\n",
    "            similarities[i, j] = sim\n",
    "            similarities[j, i] = sim\n",
    "    avg_similarity = np.sum(similarities) / (n * (n - 1))\n",
    "    return avg_similarity\n",
    "\n",
    "def calculate_jaccard_similarity_group(sentences1, sentences2):\n",
    "    stop_words = set(stopwords.words('english'))\n",
    "    processed_sentences1 = [preprocess_sentence(sent, stop_words) for sent in sentences1]\n",
    "    processed_sentences2 = [preprocess_sentence(sent, stop_words) for sent in sentences2]\n",
    "\n",
    "    total_similarity = 0\n",
    "    count = 0\n",
    "\n",
    "    for sent1 in processed_sentences1:\n",
    "        for sent2 in processed_sentences2:\n",
    "            sim = jaccard_similarity(sent1, sent2)\n",
    "            total_similarity += sim\n",
    "            count += 1\n",
    "\n",
    "    avg_similarity = total_similarity / count if count > 0 else 0\n",
    "    return avg_similarity"
   ]
  },
  {
   "cell_type": "code",
   "execution_count": 2,
   "metadata": {},
   "outputs": [],
   "source": [
    "disable_caching()"
   ]
  },
  {
   "cell_type": "code",
   "execution_count": 3,
   "metadata": {},
   "outputs": [],
   "source": [
    "ds = load_from_disk(\"../../datasets/ManualDataset\")\n",
    "ds = ds[\"train\"].to_pandas()\n",
    "ds_s = ds[\"original_text\"].unique().tolist()\n",
    "\n",
    "ds_zero = load_from_disk(\"../../datasets/ZeroShotDataset\").to_pandas()\n",
    "ds_zero_s = ds_zero[\"original_text\"].unique().tolist()\n",
    "\n",
    "ds_few = load_from_disk(\"../../datasets/TenShotDataset\").to_pandas()\n",
    "ds_few_s = ds_few[\"original_text\"].unique().tolist()\n",
    "\n",
    "ds_two = load_from_disk(\"../../datasets/TwoStageDataset\").to_pandas()\n",
    "ds_two_s = ds_two[\"original_text\"].unique().tolist()"
   ]
  },
  {
   "cell_type": "code",
   "execution_count": 4,
   "metadata": {},
   "outputs": [
    {
     "data": {
      "text/plain": [
       "0.019331977543731452"
      ]
     },
     "execution_count": 4,
     "metadata": {},
     "output_type": "execute_result"
    }
   ],
   "source": [
    "calculate_jaccard_similarity(ds_s)"
   ]
  },
  {
   "cell_type": "code",
   "execution_count": 5,
   "metadata": {},
   "outputs": [
    {
     "data": {
      "text/plain": [
       "0.059935549630957735"
      ]
     },
     "execution_count": 5,
     "metadata": {},
     "output_type": "execute_result"
    }
   ],
   "source": [
    "calculate_jaccard_similarity(ds_zero_s)"
   ]
  },
  {
   "cell_type": "code",
   "execution_count": 6,
   "metadata": {},
   "outputs": [
    {
     "data": {
      "text/plain": [
       "0.036234583270342985"
      ]
     },
     "execution_count": 6,
     "metadata": {},
     "output_type": "execute_result"
    }
   ],
   "source": [
    "calculate_jaccard_similarity(ds_few_s)"
   ]
  },
  {
   "cell_type": "code",
   "execution_count": 7,
   "metadata": {},
   "outputs": [
    {
     "data": {
      "text/plain": [
       "0.023632145589610014"
      ]
     },
     "execution_count": 7,
     "metadata": {},
     "output_type": "execute_result"
    }
   ],
   "source": [
    "calculate_jaccard_similarity(ds_two_s)"
   ]
  },
  {
   "cell_type": "code",
   "execution_count": 8,
   "metadata": {},
   "outputs": [
    {
     "data": {
      "text/plain": [
       "0.023224097514402416"
      ]
     },
     "execution_count": 8,
     "metadata": {},
     "output_type": "execute_result"
    }
   ],
   "source": [
    "calculate_jaccard_similarity_group(ds_s, ds_zero_s)"
   ]
  },
  {
   "cell_type": "code",
   "execution_count": 9,
   "metadata": {},
   "outputs": [
    {
     "data": {
      "text/plain": [
       "0.022722382926315655"
      ]
     },
     "execution_count": 9,
     "metadata": {},
     "output_type": "execute_result"
    }
   ],
   "source": [
    "calculate_jaccard_similarity_group(ds_s, ds_few_s)"
   ]
  },
  {
   "cell_type": "code",
   "execution_count": 10,
   "metadata": {},
   "outputs": [
    {
     "data": {
      "text/plain": [
       "0.010858853504418002"
      ]
     },
     "execution_count": 10,
     "metadata": {},
     "output_type": "execute_result"
    }
   ],
   "source": [
    "calculate_jaccard_similarity_group(ds_s, ds_two_s)"
   ]
  }
 ],
 "metadata": {
  "kernelspec": {
   "display_name": "default",
   "language": "python",
   "name": "python3"
  },
  "language_info": {
   "codemirror_mode": {
    "name": "ipython",
    "version": 3
   },
   "file_extension": ".py",
   "mimetype": "text/x-python",
   "name": "python",
   "nbconvert_exporter": "python",
   "pygments_lexer": "ipython3",
   "version": "3.11.9"
  }
 },
 "nbformat": 4,
 "nbformat_minor": 2
}
