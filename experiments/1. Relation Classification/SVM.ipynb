{
 "cells": [
  {
   "cell_type": "code",
   "execution_count": 1,
   "metadata": {},
   "outputs": [
    {
     "name": "stderr",
     "output_type": "stream",
     "text": [
      "[nltk_data] Downloading package punkt_tab to\n",
      "[nltk_data]     C:\\Users\\dol28\\AppData\\Roaming\\nltk_data...\n",
      "[nltk_data]   Unzipping tokenizers\\punkt_tab.zip.\n"
     ]
    }
   ],
   "source": [
    "from collections import defaultdict\n",
    "\n",
    "import numpy as np\n",
    "from datasets import disable_caching, load_from_disk\n",
    "import nltk\n",
    "from nltk.tokenize import word_tokenize as tokenizer\n",
    "from sklearn import svm\n",
    "from sklearn.feature_extraction.text import CountVectorizer\n",
    "from sklearn.metrics import f1_score\n",
    "from sklearn.model_selection import GridSearchCV\n",
    "nltk.download('punkt_tab')\n",
    "disable_caching()\n",
    "ds = load_from_disk(dataset_path=\"../../datasets/ManualDataset\")"
   ]
  },
  {
   "cell_type": "code",
   "execution_count": 2,
   "metadata": {},
   "outputs": [],
   "source": [
    "X_train = ds[\"train\"][\"masked_text\"]\n",
    "y_train = ds[\"train\"][\"label\"]\n",
    "X_test = ds[\"test\"][\"masked_text\"]\n",
    "y_test = ds[\"test\"][\"label\"]"
   ]
  },
  {
   "cell_type": "code",
   "execution_count": 3,
   "metadata": {},
   "outputs": [
    {
     "name": "stderr",
     "output_type": "stream",
     "text": [
      "d:\\IITP_Paper_Code\\.venv\\Lib\\site-packages\\sklearn\\feature_extraction\\text.py:521: UserWarning: The parameter 'token_pattern' will not be used since 'tokenizer' is not None'\n",
      "  warnings.warn(\n"
     ]
    }
   ],
   "source": [
    "vectorizer = CountVectorizer(binary=True, tokenizer=tokenizer)\n",
    "X_train = vectorizer.fit_transform(X_train)\n",
    "X_test = vectorizer.transform(X_test)"
   ]
  },
  {
   "cell_type": "code",
   "execution_count": 4,
   "metadata": {},
   "outputs": [],
   "source": [
    "param_grid = {\n",
    "    'C': [0.1, 1, 10, 100, 1000],\n",
    "    'kernel': ['linear', 'rbf'],\n",
    "    'gamma': ['scale', 'auto']\n",
    "}"
   ]
  },
  {
   "cell_type": "code",
   "execution_count": 5,
   "metadata": {},
   "outputs": [
    {
     "name": "stdout",
     "output_type": "stream",
     "text": [
      "{'C': 100, 'gamma': 'auto', 'kernel': 'rbf'}\n",
      "Micro F1: 0.5799\n",
      "Macro F1: 0.456\n",
      "[0.71657754 0.21138211 0.53140097 0.38297872 0.4375    ]\n"
     ]
    }
   ],
   "source": [
    "grid_search = GridSearchCV(estimator=svm.SVC(), param_grid=param_grid, cv=6, n_jobs=-1)\n",
    "grid_search.fit(X_train, y_train)\n",
    "print(grid_search.best_params_)\n",
    "y_pred = grid_search.best_estimator_.predict(X_test)\n",
    "micro_f1 = f1_score(y_test, y_pred, average='micro')\n",
    "macro_f1 = f1_score(y_test, y_pred, average='macro')\n",
    "classwise_f1 = f1_score(y_test, y_pred, average=None)\n",
    "# Print results\n",
    "print(\"Micro F1:\", round(micro_f1, 4))\n",
    "print(\"Macro F1:\", round(macro_f1, 4))\n",
    "print(classwise_f1)"
   ]
  }
 ],
 "metadata": {
  "kernelspec": {
   "display_name": "IITP",
   "language": "python",
   "name": "python3"
  },
  "language_info": {
   "codemirror_mode": {
    "name": "ipython",
    "version": 3
   },
   "file_extension": ".py",
   "mimetype": "text/x-python",
   "name": "python",
   "nbconvert_exporter": "python",
   "pygments_lexer": "ipython3",
   "version": "3.11.9"
  }
 },
 "nbformat": 4,
 "nbformat_minor": 2
}
