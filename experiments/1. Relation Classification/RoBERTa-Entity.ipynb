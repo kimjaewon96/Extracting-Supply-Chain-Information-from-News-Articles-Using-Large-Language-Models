{
 "cells": [
  {
   "cell_type": "code",
   "execution_count": 1,
   "metadata": {},
   "outputs": [],
   "source": [
    "import evaluate\n",
    "import numpy as np\n",
    "import sys\n",
    "import os\n",
    "from datasets import load_from_disk, disable_caching\n",
    "from sklearn.metrics import f1_score\n",
    "from transformers import (\n",
    "    AutoTokenizer,\n",
    "    DataCollatorWithPadding,\n",
    "    Trainer,\n",
    "    TrainingArguments,\n",
    "    set_seed,\n",
    ")\n",
    "sys.path.append(os.path.abspath('../../modules'))\n",
    "from experiment_1.RoBERTaEntity import RoBERTaEntity"
   ]
  },
  {
   "cell_type": "code",
   "execution_count": 2,
   "metadata": {},
   "outputs": [],
   "source": [
    "# import random\n",
    "# seeds = [random.randint(0, 1e9) for _ in range(5)]\n",
    "# seeds"
   ]
  },
  {
   "cell_type": "code",
   "execution_count": 2,
   "metadata": {},
   "outputs": [],
   "source": [
    "disable_caching()"
   ]
  },
  {
   "cell_type": "code",
   "execution_count": 3,
   "metadata": {},
   "outputs": [],
   "source": [
    "num_labels = 5\n",
    "id2label = {\n",
    "    0: \"reject\",\n",
    "    1: \"B_supplies_A\",\n",
    "    2: \"A_supplies_B\",\n",
    "    3: \"ambiguous\",\n",
    "    4: \"ownership\",\n",
    "}\n",
    "label2id = {\n",
    "    \"reject\": 0,\n",
    "    \"B_supplies_A\": 1,\n",
    "    \"A_supplies_B\": 2,\n",
    "    \"ambiguous\": 3,\n",
    "    \"ownership\": 4,\n",
    "}\n",
    "metric = evaluate.load(\"f1\")"
   ]
  },
  {
   "cell_type": "code",
   "execution_count": 4,
   "metadata": {},
   "outputs": [],
   "source": [
    "model_name = \"FacebookAI/roberta-base\"\n",
    "tokenizer = AutoTokenizer.from_pretrained(model_name)\n",
    "tokenizer.add_special_tokens(\n",
    "    {\"additional_special_tokens\": [\"__NE_FROM__\", \"__NE_TO__\", \"__NE_OTHER__\"]}\n",
    ")\n",
    "data_collator = DataCollatorWithPadding(tokenizer=tokenizer)"
   ]
  },
  {
   "cell_type": "code",
   "execution_count": 5,
   "metadata": {},
   "outputs": [],
   "source": [
    "def preprocess_function(examples):\n",
    "    return tokenizer(examples[\"text\"], truncation=True)\n",
    "\n",
    "def compute_metrics(eval_pred):\n",
    "    logits, labels = eval_pred\n",
    "    predictions = np.argmax(logits, axis=-1)\n",
    "    f1_micro = f1_score(labels, predictions, average='micro')\n",
    "    f1_macro = f1_score(labels, predictions, average='macro')\n",
    "    f1_classwise = f1_score(labels, predictions, average=None)\n",
    "\n",
    "    return {\n",
    "        \"f1_micro\": f1_micro,\n",
    "        \"f1_macro\": f1_macro,\n",
    "        **{f\"f1_class_{i}\": score for i, score in enumerate(f1_classwise)}\n",
    "    }\n",
    "\n",
    "\n",
    "def model_init():\n",
    "    model = RoBERTaEntity.from_pretrained(\n",
    "        model_name,\n",
    "        num_labels=5,\n",
    "        id2label=id2label,\n",
    "        label2id=label2id,\n",
    "    )\n",
    "    model.resize_token_embeddings(len(tokenizer))\n",
    "    return model"
   ]
  },
  {
   "cell_type": "code",
   "execution_count": 6,
   "metadata": {},
   "outputs": [
    {
     "data": {
      "application/vnd.jupyter.widget-view+json": {
       "model_id": "2d352896043744049e93d473af5cdcec",
       "version_major": 2,
       "version_minor": 0
      },
      "text/plain": [
       "Map:   0%|          | 0/2559 [00:00<?, ? examples/s]"
      ]
     },
     "metadata": {},
     "output_type": "display_data"
    },
    {
     "data": {
      "application/vnd.jupyter.widget-view+json": {
       "model_id": "e154e0fb27b74450b31a2b139ffb2d24",
       "version_major": 2,
       "version_minor": 0
      },
      "text/plain": [
       "Map:   0%|          | 0/418 [00:00<?, ? examples/s]"
      ]
     },
     "metadata": {},
     "output_type": "display_data"
    },
    {
     "data": {
      "application/vnd.jupyter.widget-view+json": {
       "model_id": "f22e66bf154c42a698fb58e730b1f641",
       "version_major": 2,
       "version_minor": 0
      },
      "text/plain": [
       "Map:   0%|          | 0/745 [00:00<?, ? examples/s]"
      ]
     },
     "metadata": {},
     "output_type": "display_data"
    }
   ],
   "source": [
    "ds = load_from_disk(\"../../datasets/ManualDataset\")\n",
    "ds = ds.select_columns([\"masked_text\", \"label\"])\n",
    "ds = ds.rename_column(\"masked_text\", \"text\")\n",
    "ds = ds.map(preprocess_function, batched=True)"
   ]
  },
  {
   "cell_type": "code",
   "execution_count": 8,
   "metadata": {},
   "outputs": [],
   "source": [
    "def run_experiment(seed):\n",
    "    set_seed(seed)\n",
    "    training_args = TrainingArguments(\n",
    "        seed=seed,\n",
    "        data_seed=seed,\n",
    "        tf32=True,\n",
    "        output_dir=\"logs/experiment_1_roberta\",\n",
    "        learning_rate=2e-5,\n",
    "        per_device_train_batch_size=16,\n",
    "        per_device_eval_batch_size=16,\n",
    "        num_train_epochs=10,\n",
    "        weight_decay=0.01,\n",
    "        eval_strategy=\"epoch\",\n",
    "        save_strategy=\"epoch\",\n",
    "        warmup_ratio=0.1,\n",
    "        load_best_model_at_end=True,\n",
    "        save_total_limit=1,\n",
    "        report_to=[],\n",
    "        save_only_model=True,\n",
    "    )\n",
    "    trainer = Trainer(\n",
    "        model_init=model_init,\n",
    "        args=training_args,\n",
    "        train_dataset=ds[\"train\"],\n",
    "        eval_dataset=ds[\"valid\"],\n",
    "        tokenizer=tokenizer,\n",
    "        data_collator=data_collator,\n",
    "        compute_metrics=compute_metrics,\n",
    "    )\n",
    "    trainer.train()\n",
    "    test_results = trainer.predict(ds[\"test\"])\n",
    "    return test_results"
   ]
  },
  {
   "cell_type": "code",
   "execution_count": 9,
   "metadata": {},
   "outputs": [
    {
     "name": "stderr",
     "output_type": "stream",
     "text": [
      "Some weights of RoBERTaEntity were not initialized from the model checkpoint at FacebookAI/roberta-base and are newly initialized: ['classifier.dense.bias', 'classifier.dense.weight', 'classifier.out_proj.bias', 'classifier.out_proj.weight']\n",
      "You should probably TRAIN this model on a down-stream task to be able to use it for predictions and inference.\n",
      "Some weights of RoBERTaEntity were not initialized from the model checkpoint at FacebookAI/roberta-base and are newly initialized: ['classifier.dense.bias', 'classifier.dense.weight', 'classifier.out_proj.bias', 'classifier.out_proj.weight']\n",
      "You should probably TRAIN this model on a down-stream task to be able to use it for predictions and inference.\n"
     ]
    },
    {
     "data": {
      "application/vnd.jupyter.widget-view+json": {
       "model_id": "0437496bb6644014999389f316437d9c",
       "version_major": 2,
       "version_minor": 0
      },
      "text/plain": [
       "  0%|          | 0/1600 [00:00<?, ?it/s]"
      ]
     },
     "metadata": {},
     "output_type": "display_data"
    },
    {
     "data": {
      "application/vnd.jupyter.widget-view+json": {
       "model_id": "303200b5586a4ce0971b9f5648b20b52",
       "version_major": 2,
       "version_minor": 0
      },
      "text/plain": [
       "  0%|          | 0/27 [00:00<?, ?it/s]"
      ]
     },
     "metadata": {},
     "output_type": "display_data"
    },
    {
     "name": "stdout",
     "output_type": "stream",
     "text": [
      "{'eval_loss': 0.8244170546531677, 'eval_f1_micro': 0.6913875598086124, 'eval_f1_macro': 0.5863309995645378, 'eval_f1_class_0': 0.7031700288184438, 'eval_f1_class_1': 0.2926829268292683, 'eval_f1_class_2': 0.7735191637630662, 'eval_f1_class_3': 0.6461538461538462, 'eval_f1_class_4': 0.5161290322580645, 'eval_runtime': 0.3748, 'eval_samples_per_second': 1115.207, 'eval_steps_per_second': 72.035, 'epoch': 1.0}\n"
     ]
    },
    {
     "data": {
      "application/vnd.jupyter.widget-view+json": {
       "model_id": "5ef29bf95b6b4aa3ab509be279c7f914",
       "version_major": 2,
       "version_minor": 0
      },
      "text/plain": [
       "  0%|          | 0/27 [00:00<?, ?it/s]"
      ]
     },
     "metadata": {},
     "output_type": "display_data"
    },
    {
     "name": "stdout",
     "output_type": "stream",
     "text": [
      "{'eval_loss': 0.574273407459259, 'eval_f1_micro': 0.7870813397129187, 'eval_f1_macro': 0.7594667403650945, 'eval_f1_class_0': 0.7966101694915254, 'eval_f1_class_1': 0.6545454545454545, 'eval_f1_class_2': 0.8156862745098039, 'eval_f1_class_3': 0.7704918032786885, 'eval_f1_class_4': 0.76, 'eval_runtime': 0.3532, 'eval_samples_per_second': 1183.323, 'eval_steps_per_second': 76.435, 'epoch': 2.0}\n"
     ]
    },
    {
     "data": {
      "application/vnd.jupyter.widget-view+json": {
       "model_id": "cd5530a57af04755943d035ac6da1cf9",
       "version_major": 2,
       "version_minor": 0
      },
      "text/plain": [
       "  0%|          | 0/27 [00:00<?, ?it/s]"
      ]
     },
     "metadata": {},
     "output_type": "display_data"
    },
    {
     "name": "stdout",
     "output_type": "stream",
     "text": [
      "{'eval_loss': 0.5922480225563049, 'eval_f1_micro': 0.7894736842105263, 'eval_f1_macro': 0.7886024326231426, 'eval_f1_class_0': 0.762214983713355, 'eval_f1_class_1': 0.7246376811594203, 'eval_f1_class_2': 0.8206896551724138, 'eval_f1_class_3': 0.8062015503875969, 'eval_f1_class_4': 0.8292682926829268, 'eval_runtime': 0.3634, 'eval_samples_per_second': 1150.197, 'eval_steps_per_second': 74.295, 'epoch': 3.0}\n",
      "{'loss': 0.8466, 'grad_norm': 14.116150856018066, 'learning_rate': 1.5277777777777777e-05, 'epoch': 3.12}\n"
     ]
    },
    {
     "data": {
      "application/vnd.jupyter.widget-view+json": {
       "model_id": "33223fcd2b844ac59cebfd2ba36e16e7",
       "version_major": 2,
       "version_minor": 0
      },
      "text/plain": [
       "  0%|          | 0/27 [00:00<?, ?it/s]"
      ]
     },
     "metadata": {},
     "output_type": "display_data"
    },
    {
     "name": "stdout",
     "output_type": "stream",
     "text": [
      "{'eval_loss': 0.5383396148681641, 'eval_f1_micro': 0.8205741626794258, 'eval_f1_macro': 0.8013391684798974, 'eval_f1_class_0': 0.8454810495626822, 'eval_f1_class_1': 0.6984126984126984, 'eval_f1_class_2': 0.8339483394833949, 'eval_f1_class_3': 0.7652173913043478, 'eval_f1_class_4': 0.8636363636363636, 'eval_runtime': 0.3667, 'eval_samples_per_second': 1139.765, 'eval_steps_per_second': 73.621, 'epoch': 4.0}\n"
     ]
    },
    {
     "data": {
      "application/vnd.jupyter.widget-view+json": {
       "model_id": "40c2935502954ed39e658eb4cb4a7d62",
       "version_major": 2,
       "version_minor": 0
      },
      "text/plain": [
       "  0%|          | 0/27 [00:00<?, ?it/s]"
      ]
     },
     "metadata": {},
     "output_type": "display_data"
    },
    {
     "name": "stdout",
     "output_type": "stream",
     "text": [
      "{'eval_loss': 0.5431382656097412, 'eval_f1_micro': 0.8157894736842105, 'eval_f1_macro': 0.7980779276429735, 'eval_f1_class_0': 0.830945558739255, 'eval_f1_class_1': 0.711864406779661, 'eval_f1_class_2': 0.84, 'eval_f1_class_3': 0.7703703703703704, 'eval_f1_class_4': 0.8372093023255814, 'eval_runtime': 0.388, 'eval_samples_per_second': 1077.192, 'eval_steps_per_second': 69.579, 'epoch': 5.0}\n"
     ]
    },
    {
     "data": {
      "application/vnd.jupyter.widget-view+json": {
       "model_id": "62c21a83c51e45439053cd350eee413e",
       "version_major": 2,
       "version_minor": 0
      },
      "text/plain": [
       "  0%|          | 0/27 [00:00<?, ?it/s]"
      ]
     },
     "metadata": {},
     "output_type": "display_data"
    },
    {
     "name": "stdout",
     "output_type": "stream",
     "text": [
      "{'eval_loss': 0.5742688179016113, 'eval_f1_micro': 0.8086124401913876, 'eval_f1_macro': 0.7880627047409732, 'eval_f1_class_0': 0.8099688473520249, 'eval_f1_class_1': 0.6875, 'eval_f1_class_2': 0.8436363636363636, 'eval_f1_class_3': 0.7906976744186046, 'eval_f1_class_4': 0.8085106382978723, 'eval_runtime': 0.3958, 'eval_samples_per_second': 1056.169, 'eval_steps_per_second': 68.221, 'epoch': 6.0}\n",
      "{'loss': 0.2768, 'grad_norm': 6.920933246612549, 'learning_rate': 8.333333333333334e-06, 'epoch': 6.25}\n"
     ]
    },
    {
     "data": {
      "application/vnd.jupyter.widget-view+json": {
       "model_id": "6aa9578c769b4606978bb9a7c780093c",
       "version_major": 2,
       "version_minor": 0
      },
      "text/plain": [
       "  0%|          | 0/27 [00:00<?, ?it/s]"
      ]
     },
     "metadata": {},
     "output_type": "display_data"
    },
    {
     "name": "stdout",
     "output_type": "stream",
     "text": [
      "{'eval_loss': 0.5765441656112671, 'eval_f1_micro': 0.8181818181818182, 'eval_f1_macro': 0.8022037501753816, 'eval_f1_class_0': 0.8173374613003096, 'eval_f1_class_1': 0.71875, 'eval_f1_class_2': 0.8518518518518519, 'eval_f1_class_3': 0.7969924812030075, 'eval_f1_class_4': 0.8260869565217391, 'eval_runtime': 0.398, 'eval_samples_per_second': 1050.138, 'eval_steps_per_second': 67.832, 'epoch': 7.0}\n"
     ]
    },
    {
     "data": {
      "application/vnd.jupyter.widget-view+json": {
       "model_id": "cd7136a3653040129016130d38a395c5",
       "version_major": 2,
       "version_minor": 0
      },
      "text/plain": [
       "  0%|          | 0/27 [00:00<?, ?it/s]"
      ]
     },
     "metadata": {},
     "output_type": "display_data"
    },
    {
     "name": "stdout",
     "output_type": "stream",
     "text": [
      "{'eval_loss': 0.583548903465271, 'eval_f1_micro': 0.8301435406698564, 'eval_f1_macro': 0.8186604445614764, 'eval_f1_class_0': 0.8398791540785498, 'eval_f1_class_1': 0.7741935483870968, 'eval_f1_class_2': 0.8528301886792453, 'eval_f1_class_3': 0.7819548872180451, 'eval_f1_class_4': 0.8444444444444444, 'eval_runtime': 0.3551, 'eval_samples_per_second': 1177.278, 'eval_steps_per_second': 76.044, 'epoch': 8.0}\n"
     ]
    },
    {
     "data": {
      "application/vnd.jupyter.widget-view+json": {
       "model_id": "b8283edd7643453aaf5eec071e4b5b0d",
       "version_major": 2,
       "version_minor": 0
      },
      "text/plain": [
       "  0%|          | 0/27 [00:00<?, ?it/s]"
      ]
     },
     "metadata": {},
     "output_type": "display_data"
    },
    {
     "name": "stdout",
     "output_type": "stream",
     "text": [
      "{'eval_loss': 0.6087131500244141, 'eval_f1_micro': 0.8253588516746412, 'eval_f1_macro': 0.812520062184978, 'eval_f1_class_0': 0.8308605341246291, 'eval_f1_class_1': 0.7419354838709677, 'eval_f1_class_2': 0.8484848484848485, 'eval_f1_class_3': 0.796875, 'eval_f1_class_4': 0.8444444444444444, 'eval_runtime': 0.3554, 'eval_samples_per_second': 1176.042, 'eval_steps_per_second': 75.964, 'epoch': 9.0}\n",
      "{'loss': 0.1183, 'grad_norm': 6.049500465393066, 'learning_rate': 1.3888888888888892e-06, 'epoch': 9.38}\n"
     ]
    },
    {
     "data": {
      "application/vnd.jupyter.widget-view+json": {
       "model_id": "dcaed759f0924081b1f8fc8804b7c17a",
       "version_major": 2,
       "version_minor": 0
      },
      "text/plain": [
       "  0%|          | 0/27 [00:00<?, ?it/s]"
      ]
     },
     "metadata": {},
     "output_type": "display_data"
    },
    {
     "name": "stdout",
     "output_type": "stream",
     "text": [
      "{'eval_loss': 0.6097435355186462, 'eval_f1_micro': 0.8301435406698564, 'eval_f1_macro': 0.8154753338434191, 'eval_f1_class_0': 0.8392857142857143, 'eval_f1_class_1': 0.7419354838709677, 'eval_f1_class_2': 0.8517110266159695, 'eval_f1_class_3': 0.8, 'eval_f1_class_4': 0.8444444444444444, 'eval_runtime': 0.3722, 'eval_samples_per_second': 1122.987, 'eval_steps_per_second': 72.537, 'epoch': 10.0}\n",
      "{'train_runtime': 97.8219, 'train_samples_per_second': 261.598, 'train_steps_per_second': 16.356, 'train_loss': 0.3933098387718201, 'epoch': 10.0}\n"
     ]
    },
    {
     "data": {
      "application/vnd.jupyter.widget-view+json": {
       "model_id": "40f816f89c6a45c2b5117eb448d4b310",
       "version_major": 2,
       "version_minor": 0
      },
      "text/plain": [
       "  0%|          | 0/47 [00:00<?, ?it/s]"
      ]
     },
     "metadata": {},
     "output_type": "display_data"
    },
    {
     "name": "stderr",
     "output_type": "stream",
     "text": [
      "Some weights of RoBERTaEntity were not initialized from the model checkpoint at FacebookAI/roberta-base and are newly initialized: ['classifier.dense.bias', 'classifier.dense.weight', 'classifier.out_proj.bias', 'classifier.out_proj.weight']\n",
      "You should probably TRAIN this model on a down-stream task to be able to use it for predictions and inference.\n",
      "Some weights of RoBERTaEntity were not initialized from the model checkpoint at FacebookAI/roberta-base and are newly initialized: ['classifier.dense.bias', 'classifier.dense.weight', 'classifier.out_proj.bias', 'classifier.out_proj.weight']\n",
      "You should probably TRAIN this model on a down-stream task to be able to use it for predictions and inference.\n"
     ]
    },
    {
     "data": {
      "application/vnd.jupyter.widget-view+json": {
       "model_id": "e95312b3eead4af7a6e990e893cdba96",
       "version_major": 2,
       "version_minor": 0
      },
      "text/plain": [
       "  0%|          | 0/1600 [00:00<?, ?it/s]"
      ]
     },
     "metadata": {},
     "output_type": "display_data"
    },
    {
     "data": {
      "application/vnd.jupyter.widget-view+json": {
       "model_id": "740cf8a890094205a01a0529f929e199",
       "version_major": 2,
       "version_minor": 0
      },
      "text/plain": [
       "  0%|          | 0/27 [00:00<?, ?it/s]"
      ]
     },
     "metadata": {},
     "output_type": "display_data"
    },
    {
     "name": "stdout",
     "output_type": "stream",
     "text": [
      "{'eval_loss': 0.8310199975967407, 'eval_f1_micro': 0.7081339712918661, 'eval_f1_macro': 0.655378347143053, 'eval_f1_class_0': 0.7226890756302521, 'eval_f1_class_1': 0.5882352941176471, 'eval_f1_class_2': 0.7538461538461538, 'eval_f1_class_3': 0.6666666666666666, 'eval_f1_class_4': 0.5454545454545454, 'eval_runtime': 0.3733, 'eval_samples_per_second': 1119.816, 'eval_steps_per_second': 72.333, 'epoch': 1.0}\n"
     ]
    },
    {
     "data": {
      "application/vnd.jupyter.widget-view+json": {
       "model_id": "6f64d9736d0b46729076c401ae93158d",
       "version_major": 2,
       "version_minor": 0
      },
      "text/plain": [
       "  0%|          | 0/27 [00:00<?, ?it/s]"
      ]
     },
     "metadata": {},
     "output_type": "display_data"
    },
    {
     "name": "stdout",
     "output_type": "stream",
     "text": [
      "{'eval_loss': 0.5367431044578552, 'eval_f1_micro': 0.7918660287081339, 'eval_f1_macro': 0.7745186469150069, 'eval_f1_class_0': 0.7888198757763976, 'eval_f1_class_1': 0.6666666666666666, 'eval_f1_class_2': 0.8148148148148148, 'eval_f1_class_3': 0.8115942028985508, 'eval_f1_class_4': 0.7906976744186046, 'eval_runtime': 0.3452, 'eval_samples_per_second': 1210.918, 'eval_steps_per_second': 78.217, 'epoch': 2.0}\n"
     ]
    },
    {
     "data": {
      "application/vnd.jupyter.widget-view+json": {
       "model_id": "3675e23c3a80451cad14cd542d9e3618",
       "version_major": 2,
       "version_minor": 0
      },
      "text/plain": [
       "  0%|          | 0/27 [00:00<?, ?it/s]"
      ]
     },
     "metadata": {},
     "output_type": "display_data"
    },
    {
     "name": "stdout",
     "output_type": "stream",
     "text": [
      "{'eval_loss': 0.5027338862419128, 'eval_f1_micro': 0.8277511961722488, 'eval_f1_macro': 0.8023413722305197, 'eval_f1_class_0': 0.8387096774193549, 'eval_f1_class_1': 0.6666666666666666, 'eval_f1_class_2': 0.8401486988847584, 'eval_f1_class_3': 0.848, 'eval_f1_class_4': 0.8181818181818182, 'eval_runtime': 0.3451, 'eval_samples_per_second': 1211.312, 'eval_steps_per_second': 78.243, 'epoch': 3.0}\n",
      "{'loss': 0.8361, 'grad_norm': 19.651443481445312, 'learning_rate': 1.5277777777777777e-05, 'epoch': 3.12}\n"
     ]
    },
    {
     "data": {
      "application/vnd.jupyter.widget-view+json": {
       "model_id": "9bc1da4299e1421c808baff8dadc1966",
       "version_major": 2,
       "version_minor": 0
      },
      "text/plain": [
       "  0%|          | 0/27 [00:00<?, ?it/s]"
      ]
     },
     "metadata": {},
     "output_type": "display_data"
    },
    {
     "name": "stdout",
     "output_type": "stream",
     "text": [
      "{'eval_loss': 0.47393330931663513, 'eval_f1_micro': 0.8492822966507177, 'eval_f1_macro': 0.8225762680255857, 'eval_f1_class_0': 0.8514285714285714, 'eval_f1_class_1': 0.6896551724137931, 'eval_f1_class_2': 0.8821292775665399, 'eval_f1_class_3': 0.8524590163934426, 'eval_f1_class_4': 0.8372093023255814, 'eval_runtime': 0.3435, 'eval_samples_per_second': 1216.74, 'eval_steps_per_second': 78.593, 'epoch': 4.0}\n"
     ]
    },
    {
     "data": {
      "application/vnd.jupyter.widget-view+json": {
       "model_id": "1caf1131ade34aa49a12f0d9b83936e4",
       "version_major": 2,
       "version_minor": 0
      },
      "text/plain": [
       "  0%|          | 0/27 [00:00<?, ?it/s]"
      ]
     },
     "metadata": {},
     "output_type": "display_data"
    },
    {
     "name": "stdout",
     "output_type": "stream",
     "text": [
      "{'eval_loss': 0.5419448614120483, 'eval_f1_micro': 0.8133971291866029, 'eval_f1_macro': 0.7800852769454958, 'eval_f1_class_0': 0.8295454545454546, 'eval_f1_class_1': 0.6440677966101694, 'eval_f1_class_2': 0.8294573643410853, 'eval_f1_class_3': 0.828125, 'eval_f1_class_4': 0.7692307692307693, 'eval_runtime': 0.3476, 'eval_samples_per_second': 1202.41, 'eval_steps_per_second': 77.668, 'epoch': 5.0}\n"
     ]
    },
    {
     "data": {
      "application/vnd.jupyter.widget-view+json": {
       "model_id": "201322bb6eeb4217b4a4ca1487a403d4",
       "version_major": 2,
       "version_minor": 0
      },
      "text/plain": [
       "  0%|          | 0/27 [00:00<?, ?it/s]"
      ]
     },
     "metadata": {},
     "output_type": "display_data"
    },
    {
     "name": "stdout",
     "output_type": "stream",
     "text": [
      "{'eval_loss': 0.5060605406761169, 'eval_f1_micro': 0.8397129186602871, 'eval_f1_macro': 0.8177551809892236, 'eval_f1_class_0': 0.8389057750759878, 'eval_f1_class_1': 0.7272727272727273, 'eval_f1_class_2': 0.8654545454545455, 'eval_f1_class_3': 0.8571428571428571, 'eval_f1_class_4': 0.8, 'eval_runtime': 0.3573, 'eval_samples_per_second': 1169.982, 'eval_steps_per_second': 75.573, 'epoch': 6.0}\n",
      "{'loss': 0.2694, 'grad_norm': 29.993202209472656, 'learning_rate': 8.333333333333334e-06, 'epoch': 6.25}\n"
     ]
    },
    {
     "data": {
      "application/vnd.jupyter.widget-view+json": {
       "model_id": "7c75b68c5eda4b9a825e2042cb55b7a3",
       "version_major": 2,
       "version_minor": 0
      },
      "text/plain": [
       "  0%|          | 0/27 [00:00<?, ?it/s]"
      ]
     },
     "metadata": {},
     "output_type": "display_data"
    },
    {
     "name": "stdout",
     "output_type": "stream",
     "text": [
      "{'eval_loss': 0.5430418848991394, 'eval_f1_micro': 0.8421052631578947, 'eval_f1_macro': 0.810291421917079, 'eval_f1_class_0': 0.8580060422960725, 'eval_f1_class_1': 0.7096774193548387, 'eval_f1_class_2': 0.8721804511278195, 'eval_f1_class_3': 0.8208955223880597, 'eval_f1_class_4': 0.7906976744186046, 'eval_runtime': 0.3507, 'eval_samples_per_second': 1191.786, 'eval_steps_per_second': 76.981, 'epoch': 7.0}\n"
     ]
    },
    {
     "data": {
      "application/vnd.jupyter.widget-view+json": {
       "model_id": "1e33bb48aef44afebbd4da7cdc60152d",
       "version_major": 2,
       "version_minor": 0
      },
      "text/plain": [
       "  0%|          | 0/27 [00:00<?, ?it/s]"
      ]
     },
     "metadata": {},
     "output_type": "display_data"
    },
    {
     "name": "stdout",
     "output_type": "stream",
     "text": [
      "{'eval_loss': 0.5820478796958923, 'eval_f1_micro': 0.8373205741626795, 'eval_f1_macro': 0.8117713415684975, 'eval_f1_class_0': 0.844574780058651, 'eval_f1_class_1': 0.6984126984126984, 'eval_f1_class_2': 0.8625954198473282, 'eval_f1_class_3': 0.84375, 'eval_f1_class_4': 0.8095238095238095, 'eval_runtime': 0.3563, 'eval_samples_per_second': 1173.317, 'eval_steps_per_second': 75.788, 'epoch': 8.0}\n"
     ]
    },
    {
     "data": {
      "application/vnd.jupyter.widget-view+json": {
       "model_id": "2da4ee58a42649d9abe222e352749c0c",
       "version_major": 2,
       "version_minor": 0
      },
      "text/plain": [
       "  0%|          | 0/27 [00:00<?, ?it/s]"
      ]
     },
     "metadata": {},
     "output_type": "display_data"
    },
    {
     "name": "stdout",
     "output_type": "stream",
     "text": [
      "{'eval_loss': 0.589146614074707, 'eval_f1_micro': 0.8397129186602871, 'eval_f1_macro': 0.8155532145743878, 'eval_f1_class_0': 0.8477611940298507, 'eval_f1_class_1': 0.7384615384615385, 'eval_f1_class_2': 0.8636363636363636, 'eval_f1_class_3': 0.8372093023255814, 'eval_f1_class_4': 0.7906976744186046, 'eval_runtime': 0.3691, 'eval_samples_per_second': 1132.464, 'eval_steps_per_second': 73.15, 'epoch': 9.0}\n",
      "{'loss': 0.1092, 'grad_norm': 9.144938468933105, 'learning_rate': 1.3888888888888892e-06, 'epoch': 9.38}\n"
     ]
    },
    {
     "data": {
      "application/vnd.jupyter.widget-view+json": {
       "model_id": "883baffb921e4f7badcc736aa868113e",
       "version_major": 2,
       "version_minor": 0
      },
      "text/plain": [
       "  0%|          | 0/27 [00:00<?, ?it/s]"
      ]
     },
     "metadata": {},
     "output_type": "display_data"
    },
    {
     "name": "stdout",
     "output_type": "stream",
     "text": [
      "{'eval_loss': 0.6146237254142761, 'eval_f1_micro': 0.8373205741626795, 'eval_f1_macro': 0.8169303345734334, 'eval_f1_class_0': 0.8470588235294118, 'eval_f1_class_1': 0.7384615384615385, 'eval_f1_class_2': 0.8549618320610687, 'eval_f1_class_3': 0.8346456692913385, 'eval_f1_class_4': 0.8095238095238095, 'eval_runtime': 0.3478, 'eval_samples_per_second': 1201.918, 'eval_steps_per_second': 77.636, 'epoch': 10.0}\n",
      "{'train_runtime': 94.8108, 'train_samples_per_second': 269.906, 'train_steps_per_second': 16.876, 'train_loss': 0.38452482789754866, 'epoch': 10.0}\n"
     ]
    },
    {
     "data": {
      "application/vnd.jupyter.widget-view+json": {
       "model_id": "82f423f2072a4f2aacecac52835b2f4f",
       "version_major": 2,
       "version_minor": 0
      },
      "text/plain": [
       "  0%|          | 0/47 [00:00<?, ?it/s]"
      ]
     },
     "metadata": {},
     "output_type": "display_data"
    },
    {
     "name": "stderr",
     "output_type": "stream",
     "text": [
      "Some weights of RoBERTaEntity were not initialized from the model checkpoint at FacebookAI/roberta-base and are newly initialized: ['classifier.dense.bias', 'classifier.dense.weight', 'classifier.out_proj.bias', 'classifier.out_proj.weight']\n",
      "You should probably TRAIN this model on a down-stream task to be able to use it for predictions and inference.\n",
      "Some weights of RoBERTaEntity were not initialized from the model checkpoint at FacebookAI/roberta-base and are newly initialized: ['classifier.dense.bias', 'classifier.dense.weight', 'classifier.out_proj.bias', 'classifier.out_proj.weight']\n",
      "You should probably TRAIN this model on a down-stream task to be able to use it for predictions and inference.\n"
     ]
    },
    {
     "data": {
      "application/vnd.jupyter.widget-view+json": {
       "model_id": "e9def79e0c47433dae865f913799fe8b",
       "version_major": 2,
       "version_minor": 0
      },
      "text/plain": [
       "  0%|          | 0/1600 [00:00<?, ?it/s]"
      ]
     },
     "metadata": {},
     "output_type": "display_data"
    },
    {
     "data": {
      "application/vnd.jupyter.widget-view+json": {
       "model_id": "8469c9613fe64d7e818b4ee19da5cb57",
       "version_major": 2,
       "version_minor": 0
      },
      "text/plain": [
       "  0%|          | 0/27 [00:00<?, ?it/s]"
      ]
     },
     "metadata": {},
     "output_type": "display_data"
    },
    {
     "name": "stdout",
     "output_type": "stream",
     "text": [
      "{'eval_loss': 0.9017341136932373, 'eval_f1_micro': 0.6626794258373205, 'eval_f1_macro': 0.5784416482066235, 'eval_f1_class_0': 0.683076923076923, 'eval_f1_class_1': 0.3950617283950617, 'eval_f1_class_2': 0.7397260273972602, 'eval_f1_class_3': 0.6605504587155964, 'eval_f1_class_4': 0.41379310344827586, 'eval_runtime': 0.375, 'eval_samples_per_second': 1114.526, 'eval_steps_per_second': 71.991, 'epoch': 1.0}\n"
     ]
    },
    {
     "data": {
      "application/vnd.jupyter.widget-view+json": {
       "model_id": "36afc17ed653434ea1f935c396223b64",
       "version_major": 2,
       "version_minor": 0
      },
      "text/plain": [
       "  0%|          | 0/27 [00:00<?, ?it/s]"
      ]
     },
     "metadata": {},
     "output_type": "display_data"
    },
    {
     "name": "stdout",
     "output_type": "stream",
     "text": [
      "{'eval_loss': 0.6250662207603455, 'eval_f1_micro': 0.7703349282296651, 'eval_f1_macro': 0.7273708394282556, 'eval_f1_class_0': 0.7842105263157895, 'eval_f1_class_1': 0.5714285714285714, 'eval_f1_class_2': 0.8016528925619835, 'eval_f1_class_3': 0.7768595041322314, 'eval_f1_class_4': 0.7027027027027027, 'eval_runtime': 0.3478, 'eval_samples_per_second': 1201.733, 'eval_steps_per_second': 77.624, 'epoch': 2.0}\n"
     ]
    },
    {
     "data": {
      "application/vnd.jupyter.widget-view+json": {
       "model_id": "b608cd92426d47f9b2fa0395b93fdabf",
       "version_major": 2,
       "version_minor": 0
      },
      "text/plain": [
       "  0%|          | 0/27 [00:00<?, ?it/s]"
      ]
     },
     "metadata": {},
     "output_type": "display_data"
    },
    {
     "name": "stdout",
     "output_type": "stream",
     "text": [
      "{'eval_loss': 0.6159560084342957, 'eval_f1_micro': 0.777511961722488, 'eval_f1_macro': 0.7639919561068986, 'eval_f1_class_0': 0.7628205128205128, 'eval_f1_class_1': 0.6172839506172839, 'eval_f1_class_2': 0.8218181818181818, 'eval_f1_class_3': 0.8103448275862069, 'eval_f1_class_4': 0.8076923076923077, 'eval_runtime': 0.3509, 'eval_samples_per_second': 1191.061, 'eval_steps_per_second': 76.935, 'epoch': 3.0}\n",
      "{'loss': 0.8599, 'grad_norm': 21.98093032836914, 'learning_rate': 1.5277777777777777e-05, 'epoch': 3.12}\n"
     ]
    },
    {
     "data": {
      "application/vnd.jupyter.widget-view+json": {
       "model_id": "177093aecca64971a1696a50def33091",
       "version_major": 2,
       "version_minor": 0
      },
      "text/plain": [
       "  0%|          | 0/27 [00:00<?, ?it/s]"
      ]
     },
     "metadata": {},
     "output_type": "display_data"
    },
    {
     "name": "stdout",
     "output_type": "stream",
     "text": [
      "{'eval_loss': 0.5697667598724365, 'eval_f1_micro': 0.8205741626794258, 'eval_f1_macro': 0.8045048481194559, 'eval_f1_class_0': 0.8136645962732919, 'eval_f1_class_1': 0.7384615384615385, 'eval_f1_class_2': 0.8475836431226765, 'eval_f1_class_3': 0.8321167883211679, 'eval_f1_class_4': 0.7906976744186046, 'eval_runtime': 0.3599, 'eval_samples_per_second': 1161.505, 'eval_steps_per_second': 75.025, 'epoch': 4.0}\n"
     ]
    },
    {
     "data": {
      "application/vnd.jupyter.widget-view+json": {
       "model_id": "c32ceb7b90e644988b2746d275f9ddf0",
       "version_major": 2,
       "version_minor": 0
      },
      "text/plain": [
       "  0%|          | 0/27 [00:00<?, ?it/s]"
      ]
     },
     "metadata": {},
     "output_type": "display_data"
    },
    {
     "name": "stdout",
     "output_type": "stream",
     "text": [
      "{'eval_loss': 0.5580534338951111, 'eval_f1_micro': 0.8253588516746412, 'eval_f1_macro': 0.7898622134778019, 'eval_f1_class_0': 0.8385269121813032, 'eval_f1_class_1': 0.7164179104477612, 'eval_f1_class_2': 0.8412698412698413, 'eval_f1_class_3': 0.8503937007874016, 'eval_f1_class_4': 0.7027027027027027, 'eval_runtime': 0.3472, 'eval_samples_per_second': 1203.986, 'eval_steps_per_second': 77.769, 'epoch': 5.0}\n"
     ]
    },
    {
     "data": {
      "application/vnd.jupyter.widget-view+json": {
       "model_id": "9302760ae3ca4ef8b90a916ce6c4c3eb",
       "version_major": 2,
       "version_minor": 0
      },
      "text/plain": [
       "  0%|          | 0/27 [00:00<?, ?it/s]"
      ]
     },
     "metadata": {},
     "output_type": "display_data"
    },
    {
     "name": "stdout",
     "output_type": "stream",
     "text": [
      "{'eval_loss': 0.5713363885879517, 'eval_f1_micro': 0.8229665071770335, 'eval_f1_macro': 0.8080078527358481, 'eval_f1_class_0': 0.8328445747800587, 'eval_f1_class_1': 0.7058823529411765, 'eval_f1_class_2': 0.8333333333333334, 'eval_f1_class_3': 0.8346456692913385, 'eval_f1_class_4': 0.8333333333333334, 'eval_runtime': 0.373, 'eval_samples_per_second': 1120.653, 'eval_steps_per_second': 72.387, 'epoch': 6.0}\n",
      "{'loss': 0.2848, 'grad_norm': 18.648193359375, 'learning_rate': 8.333333333333334e-06, 'epoch': 6.25}\n"
     ]
    },
    {
     "data": {
      "application/vnd.jupyter.widget-view+json": {
       "model_id": "8473b8b59b2343198da5f6156b7ea3d6",
       "version_major": 2,
       "version_minor": 0
      },
      "text/plain": [
       "  0%|          | 0/27 [00:00<?, ?it/s]"
      ]
     },
     "metadata": {},
     "output_type": "display_data"
    },
    {
     "name": "stdout",
     "output_type": "stream",
     "text": [
      "{'eval_loss': 0.5943169593811035, 'eval_f1_micro': 0.8277511961722488, 'eval_f1_macro': 0.8125613407346318, 'eval_f1_class_0': 0.825, 'eval_f1_class_1': 0.75, 'eval_f1_class_2': 0.8467153284671532, 'eval_f1_class_3': 0.8503937007874016, 'eval_f1_class_4': 0.7906976744186046, 'eval_runtime': 0.3549, 'eval_samples_per_second': 1177.705, 'eval_steps_per_second': 76.072, 'epoch': 7.0}\n"
     ]
    },
    {
     "data": {
      "application/vnd.jupyter.widget-view+json": {
       "model_id": "cedc6c9b6ca24343a53b2a2b883284d6",
       "version_major": 2,
       "version_minor": 0
      },
      "text/plain": [
       "  0%|          | 0/27 [00:00<?, ?it/s]"
      ]
     },
     "metadata": {},
     "output_type": "display_data"
    },
    {
     "name": "stdout",
     "output_type": "stream",
     "text": [
      "{'eval_loss': 0.606907308101654, 'eval_f1_micro': 0.8253588516746412, 'eval_f1_macro': 0.8080308816700722, 'eval_f1_class_0': 0.8328267477203647, 'eval_f1_class_1': 0.7397260273972602, 'eval_f1_class_2': 0.8396946564885496, 'eval_f1_class_3': 0.8372093023255814, 'eval_f1_class_4': 0.7906976744186046, 'eval_runtime': 0.3531, 'eval_samples_per_second': 1183.656, 'eval_steps_per_second': 76.456, 'epoch': 8.0}\n"
     ]
    },
    {
     "data": {
      "application/vnd.jupyter.widget-view+json": {
       "model_id": "a260834e10f64d8782a2cd2966812d79",
       "version_major": 2,
       "version_minor": 0
      },
      "text/plain": [
       "  0%|          | 0/27 [00:00<?, ?it/s]"
      ]
     },
     "metadata": {},
     "output_type": "display_data"
    },
    {
     "name": "stdout",
     "output_type": "stream",
     "text": [
      "{'eval_loss': 0.6366732120513916, 'eval_f1_micro': 0.8325358851674641, 'eval_f1_macro': 0.8234451887861869, 'eval_f1_class_0': 0.8307692307692308, 'eval_f1_class_1': 0.7428571428571429, 'eval_f1_class_2': 0.846441947565543, 'eval_f1_class_3': 0.8527131782945736, 'eval_f1_class_4': 0.8444444444444444, 'eval_runtime': 0.364, 'eval_samples_per_second': 1148.424, 'eval_steps_per_second': 74.181, 'epoch': 9.0}\n",
      "{'loss': 0.1302, 'grad_norm': 1.326338529586792, 'learning_rate': 1.3888888888888892e-06, 'epoch': 9.38}\n"
     ]
    },
    {
     "data": {
      "application/vnd.jupyter.widget-view+json": {
       "model_id": "2bc4c8a68f63490ea5c9495f97e49dde",
       "version_major": 2,
       "version_minor": 0
      },
      "text/plain": [
       "  0%|          | 0/27 [00:00<?, ?it/s]"
      ]
     },
     "metadata": {},
     "output_type": "display_data"
    },
    {
     "name": "stdout",
     "output_type": "stream",
     "text": [
      "{'eval_loss': 0.6315638422966003, 'eval_f1_micro': 0.8373205741626795, 'eval_f1_macro': 0.8308965910488227, 'eval_f1_class_0': 0.8379204892966361, 'eval_f1_class_1': 0.7536231884057971, 'eval_f1_class_2': 0.849624060150376, 'eval_f1_class_3': 0.84375, 'eval_f1_class_4': 0.8695652173913043, 'eval_runtime': 0.3506, 'eval_samples_per_second': 1192.373, 'eval_steps_per_second': 77.019, 'epoch': 10.0}\n",
      "{'train_runtime': 94.8092, 'train_samples_per_second': 269.91, 'train_steps_per_second': 16.876, 'train_loss': 0.4036247903108597, 'epoch': 10.0}\n"
     ]
    },
    {
     "data": {
      "application/vnd.jupyter.widget-view+json": {
       "model_id": "ecae568091854b4d845b1afb43f5a021",
       "version_major": 2,
       "version_minor": 0
      },
      "text/plain": [
       "  0%|          | 0/47 [00:00<?, ?it/s]"
      ]
     },
     "metadata": {},
     "output_type": "display_data"
    },
    {
     "name": "stderr",
     "output_type": "stream",
     "text": [
      "Some weights of RoBERTaEntity were not initialized from the model checkpoint at FacebookAI/roberta-base and are newly initialized: ['classifier.dense.bias', 'classifier.dense.weight', 'classifier.out_proj.bias', 'classifier.out_proj.weight']\n",
      "You should probably TRAIN this model on a down-stream task to be able to use it for predictions and inference.\n",
      "Some weights of RoBERTaEntity were not initialized from the model checkpoint at FacebookAI/roberta-base and are newly initialized: ['classifier.dense.bias', 'classifier.dense.weight', 'classifier.out_proj.bias', 'classifier.out_proj.weight']\n",
      "You should probably TRAIN this model on a down-stream task to be able to use it for predictions and inference.\n"
     ]
    },
    {
     "data": {
      "application/vnd.jupyter.widget-view+json": {
       "model_id": "3693ddd6855f42c48da44436f1403126",
       "version_major": 2,
       "version_minor": 0
      },
      "text/plain": [
       "  0%|          | 0/1600 [00:00<?, ?it/s]"
      ]
     },
     "metadata": {},
     "output_type": "display_data"
    },
    {
     "data": {
      "application/vnd.jupyter.widget-view+json": {
       "model_id": "561fec002643404da8073482105fb266",
       "version_major": 2,
       "version_minor": 0
      },
      "text/plain": [
       "  0%|          | 0/27 [00:00<?, ?it/s]"
      ]
     },
     "metadata": {},
     "output_type": "display_data"
    },
    {
     "name": "stdout",
     "output_type": "stream",
     "text": [
      "{'eval_loss': 0.82056725025177, 'eval_f1_micro': 0.7081339712918661, 'eval_f1_macro': 0.6771297649376516, 'eval_f1_class_0': 0.6997084548104956, 'eval_f1_class_1': 0.5625, 'eval_f1_class_2': 0.7725631768953068, 'eval_f1_class_3': 0.6666666666666666, 'eval_f1_class_4': 0.6842105263157895, 'eval_runtime': 0.3584, 'eval_samples_per_second': 1166.413, 'eval_steps_per_second': 75.342, 'epoch': 1.0}\n"
     ]
    },
    {
     "data": {
      "application/vnd.jupyter.widget-view+json": {
       "model_id": "f5a9e4cf88514a6b895d74b5c93e0b1f",
       "version_major": 2,
       "version_minor": 0
      },
      "text/plain": [
       "  0%|          | 0/27 [00:00<?, ?it/s]"
      ]
     },
     "metadata": {},
     "output_type": "display_data"
    },
    {
     "name": "stdout",
     "output_type": "stream",
     "text": [
      "{'eval_loss': 0.5836171507835388, 'eval_f1_micro': 0.777511961722488, 'eval_f1_macro': 0.7345751324971246, 'eval_f1_class_0': 0.7942028985507247, 'eval_f1_class_1': 0.625, 'eval_f1_class_2': 0.8244274809160306, 'eval_f1_class_3': 0.75, 'eval_f1_class_4': 0.6792452830188679, 'eval_runtime': 0.3475, 'eval_samples_per_second': 1203.014, 'eval_steps_per_second': 77.707, 'epoch': 2.0}\n"
     ]
    },
    {
     "data": {
      "application/vnd.jupyter.widget-view+json": {
       "model_id": "9d41eb2c02cc49bbae50b4dd88f41b87",
       "version_major": 2,
       "version_minor": 0
      },
      "text/plain": [
       "  0%|          | 0/27 [00:00<?, ?it/s]"
      ]
     },
     "metadata": {},
     "output_type": "display_data"
    },
    {
     "name": "stdout",
     "output_type": "stream",
     "text": [
      "{'eval_loss': 0.5973231792449951, 'eval_f1_micro': 0.777511961722488, 'eval_f1_macro': 0.7594648662441986, 'eval_f1_class_0': 0.7588424437299035, 'eval_f1_class_1': 0.6461538461538462, 'eval_f1_class_2': 0.8294314381270903, 'eval_f1_class_3': 0.7543859649122807, 'eval_f1_class_4': 0.8085106382978723, 'eval_runtime': 0.3703, 'eval_samples_per_second': 1128.887, 'eval_steps_per_second': 72.919, 'epoch': 3.0}\n",
      "{'loss': 0.8222, 'grad_norm': 20.330097198486328, 'learning_rate': 1.5277777777777777e-05, 'epoch': 3.12}\n"
     ]
    },
    {
     "data": {
      "application/vnd.jupyter.widget-view+json": {
       "model_id": "90ba744cd2f740b7ba23cb4ece89db57",
       "version_major": 2,
       "version_minor": 0
      },
      "text/plain": [
       "  0%|          | 0/27 [00:00<?, ?it/s]"
      ]
     },
     "metadata": {},
     "output_type": "display_data"
    },
    {
     "name": "stdout",
     "output_type": "stream",
     "text": [
      "{'eval_loss': 0.6219783425331116, 'eval_f1_micro': 0.7799043062200957, 'eval_f1_macro': 0.7588483950158368, 'eval_f1_class_0': 0.770764119601329, 'eval_f1_class_1': 0.6666666666666666, 'eval_f1_class_2': 0.8251748251748252, 'eval_f1_class_3': 0.768, 'eval_f1_class_4': 0.7636363636363637, 'eval_runtime': 0.3363, 'eval_samples_per_second': 1242.962, 'eval_steps_per_second': 80.287, 'epoch': 4.0}\n"
     ]
    },
    {
     "data": {
      "application/vnd.jupyter.widget-view+json": {
       "model_id": "6f071ab83a464358873437e62d41f013",
       "version_major": 2,
       "version_minor": 0
      },
      "text/plain": [
       "  0%|          | 0/27 [00:00<?, ?it/s]"
      ]
     },
     "metadata": {},
     "output_type": "display_data"
    },
    {
     "name": "stdout",
     "output_type": "stream",
     "text": [
      "{'eval_loss': 0.5858204364776611, 'eval_f1_micro': 0.8038277511961722, 'eval_f1_macro': 0.7836680334705697, 'eval_f1_class_0': 0.8037974683544303, 'eval_f1_class_1': 0.6875, 'eval_f1_class_2': 0.8413284132841329, 'eval_f1_class_3': 0.7857142857142857, 'eval_f1_class_4': 0.8, 'eval_runtime': 0.3324, 'eval_samples_per_second': 1257.421, 'eval_steps_per_second': 81.221, 'epoch': 5.0}\n"
     ]
    },
    {
     "data": {
      "application/vnd.jupyter.widget-view+json": {
       "model_id": "2faa95284e054c7cbfb32f700b3f6779",
       "version_major": 2,
       "version_minor": 0
      },
      "text/plain": [
       "  0%|          | 0/27 [00:00<?, ?it/s]"
      ]
     },
     "metadata": {},
     "output_type": "display_data"
    },
    {
     "name": "stdout",
     "output_type": "stream",
     "text": [
      "{'eval_loss': 0.6129098534584045, 'eval_f1_micro': 0.8110047846889952, 'eval_f1_macro': 0.7845101815940015, 'eval_f1_class_0': 0.8292682926829268, 'eval_f1_class_1': 0.6666666666666666, 'eval_f1_class_2': 0.8352490421455939, 'eval_f1_class_3': 0.7913669064748201, 'eval_f1_class_4': 0.8, 'eval_runtime': 0.334, 'eval_samples_per_second': 1251.347, 'eval_steps_per_second': 80.829, 'epoch': 6.0}\n",
      "{'loss': 0.2781, 'grad_norm': 19.97541618347168, 'learning_rate': 8.333333333333334e-06, 'epoch': 6.25}\n"
     ]
    },
    {
     "data": {
      "application/vnd.jupyter.widget-view+json": {
       "model_id": "f40541723ae14f108564914a6c3e7cb5",
       "version_major": 2,
       "version_minor": 0
      },
      "text/plain": [
       "  0%|          | 0/27 [00:00<?, ?it/s]"
      ]
     },
     "metadata": {},
     "output_type": "display_data"
    },
    {
     "name": "stdout",
     "output_type": "stream",
     "text": [
      "{'eval_loss': 0.6263538002967834, 'eval_f1_micro': 0.8181818181818182, 'eval_f1_macro': 0.7898193640180553, 'eval_f1_class_0': 0.831858407079646, 'eval_f1_class_1': 0.6461538461538462, 'eval_f1_class_2': 0.849624060150376, 'eval_f1_class_3': 0.8032786885245902, 'eval_f1_class_4': 0.8181818181818182, 'eval_runtime': 0.3343, 'eval_samples_per_second': 1250.518, 'eval_steps_per_second': 80.775, 'epoch': 7.0}\n"
     ]
    },
    {
     "data": {
      "application/vnd.jupyter.widget-view+json": {
       "model_id": "080dbb2db81f4acea11ec768e4be0521",
       "version_major": 2,
       "version_minor": 0
      },
      "text/plain": [
       "  0%|          | 0/27 [00:00<?, ?it/s]"
      ]
     },
     "metadata": {},
     "output_type": "display_data"
    },
    {
     "name": "stdout",
     "output_type": "stream",
     "text": [
      "{'eval_loss': 0.6276966333389282, 'eval_f1_micro': 0.8157894736842105, 'eval_f1_macro': 0.7967827819244242, 'eval_f1_class_0': 0.8203592814371258, 'eval_f1_class_1': 0.6956521739130435, 'eval_f1_class_2': 0.846441947565543, 'eval_f1_class_3': 0.8032786885245902, 'eval_f1_class_4': 0.8181818181818182, 'eval_runtime': 0.3474, 'eval_samples_per_second': 1203.393, 'eval_steps_per_second': 77.731, 'epoch': 8.0}\n"
     ]
    },
    {
     "data": {
      "application/vnd.jupyter.widget-view+json": {
       "model_id": "a202782ee85d494eb754a7f3034ea5a2",
       "version_major": 2,
       "version_minor": 0
      },
      "text/plain": [
       "  0%|          | 0/27 [00:00<?, ?it/s]"
      ]
     },
     "metadata": {},
     "output_type": "display_data"
    },
    {
     "name": "stdout",
     "output_type": "stream",
     "text": [
      "{'eval_loss': 0.6523991823196411, 'eval_f1_micro': 0.8229665071770335, 'eval_f1_macro': 0.810441553667309, 'eval_f1_class_0': 0.8288288288288288, 'eval_f1_class_1': 0.7246376811594203, 'eval_f1_class_2': 0.8389513108614233, 'eval_f1_class_3': 0.8225806451612904, 'eval_f1_class_4': 0.8372093023255814, 'eval_runtime': 0.3457, 'eval_samples_per_second': 1209.277, 'eval_steps_per_second': 78.111, 'epoch': 9.0}\n",
      "{'loss': 0.114, 'grad_norm': 6.159750461578369, 'learning_rate': 1.3888888888888892e-06, 'epoch': 9.38}\n"
     ]
    },
    {
     "data": {
      "application/vnd.jupyter.widget-view+json": {
       "model_id": "9bfd2ab9601e4079a4e50c6a8929e764",
       "version_major": 2,
       "version_minor": 0
      },
      "text/plain": [
       "  0%|          | 0/27 [00:00<?, ?it/s]"
      ]
     },
     "metadata": {},
     "output_type": "display_data"
    },
    {
     "name": "stdout",
     "output_type": "stream",
     "text": [
      "{'eval_loss': 0.6727039217948914, 'eval_f1_micro': 0.8301435406698564, 'eval_f1_macro': 0.8100492203463254, 'eval_f1_class_0': 0.844311377245509, 'eval_f1_class_1': 0.696969696969697, 'eval_f1_class_2': 0.8473282442748091, 'eval_f1_class_3': 0.8244274809160306, 'eval_f1_class_4': 0.8372093023255814, 'eval_runtime': 0.3239, 'eval_samples_per_second': 1290.535, 'eval_steps_per_second': 83.36, 'epoch': 10.0}\n",
      "{'train_runtime': 92.1255, 'train_samples_per_second': 277.773, 'train_steps_per_second': 17.368, 'train_loss': 0.38340321093797686, 'epoch': 10.0}\n"
     ]
    },
    {
     "data": {
      "application/vnd.jupyter.widget-view+json": {
       "model_id": "08870896c72749bdb5fa4ea59dc2fce9",
       "version_major": 2,
       "version_minor": 0
      },
      "text/plain": [
       "  0%|          | 0/47 [00:00<?, ?it/s]"
      ]
     },
     "metadata": {},
     "output_type": "display_data"
    },
    {
     "name": "stderr",
     "output_type": "stream",
     "text": [
      "Some weights of RoBERTaEntity were not initialized from the model checkpoint at FacebookAI/roberta-base and are newly initialized: ['classifier.dense.bias', 'classifier.dense.weight', 'classifier.out_proj.bias', 'classifier.out_proj.weight']\n",
      "You should probably TRAIN this model on a down-stream task to be able to use it for predictions and inference.\n",
      "Some weights of RoBERTaEntity were not initialized from the model checkpoint at FacebookAI/roberta-base and are newly initialized: ['classifier.dense.bias', 'classifier.dense.weight', 'classifier.out_proj.bias', 'classifier.out_proj.weight']\n",
      "You should probably TRAIN this model on a down-stream task to be able to use it for predictions and inference.\n"
     ]
    },
    {
     "data": {
      "application/vnd.jupyter.widget-view+json": {
       "model_id": "c9c0680bd1db4864834386a0170d141d",
       "version_major": 2,
       "version_minor": 0
      },
      "text/plain": [
       "  0%|          | 0/1600 [00:00<?, ?it/s]"
      ]
     },
     "metadata": {},
     "output_type": "display_data"
    },
    {
     "data": {
      "application/vnd.jupyter.widget-view+json": {
       "model_id": "02832306961b4f3ca81e263cbba763f0",
       "version_major": 2,
       "version_minor": 0
      },
      "text/plain": [
       "  0%|          | 0/27 [00:00<?, ?it/s]"
      ]
     },
     "metadata": {},
     "output_type": "display_data"
    },
    {
     "name": "stdout",
     "output_type": "stream",
     "text": [
      "{'eval_loss': 0.8703548908233643, 'eval_f1_micro': 0.6602870813397129, 'eval_f1_macro': 0.5904369945020351, 'eval_f1_class_0': 0.7012345679012346, 'eval_f1_class_1': 0.4090909090909091, 'eval_f1_class_2': 0.6581196581196581, 'eval_f1_class_3': 0.6504065040650406, 'eval_f1_class_4': 0.5333333333333333, 'eval_runtime': 0.3546, 'eval_samples_per_second': 1178.775, 'eval_steps_per_second': 76.141, 'epoch': 1.0}\n"
     ]
    },
    {
     "data": {
      "application/vnd.jupyter.widget-view+json": {
       "model_id": "d240028e23db45e88d6d740f106446a2",
       "version_major": 2,
       "version_minor": 0
      },
      "text/plain": [
       "  0%|          | 0/27 [00:00<?, ?it/s]"
      ]
     },
     "metadata": {},
     "output_type": "display_data"
    },
    {
     "name": "stdout",
     "output_type": "stream",
     "text": [
      "{'eval_loss': 0.5650731921195984, 'eval_f1_micro': 0.7799043062200957, 'eval_f1_macro': 0.7497281149971429, 'eval_f1_class_0': 0.7818696883852692, 'eval_f1_class_1': 0.6896551724137931, 'eval_f1_class_2': 0.7984189723320159, 'eval_f1_class_3': 0.8120300751879699, 'eval_f1_class_4': 0.6666666666666666, 'eval_runtime': 0.3306, 'eval_samples_per_second': 1264.494, 'eval_steps_per_second': 81.678, 'epoch': 2.0}\n"
     ]
    },
    {
     "data": {
      "application/vnd.jupyter.widget-view+json": {
       "model_id": "0eac77fe7ce8493196d794c7258bd546",
       "version_major": 2,
       "version_minor": 0
      },
      "text/plain": [
       "  0%|          | 0/27 [00:00<?, ?it/s]"
      ]
     },
     "metadata": {},
     "output_type": "display_data"
    },
    {
     "name": "stdout",
     "output_type": "stream",
     "text": [
      "{'eval_loss': 0.544445812702179, 'eval_f1_micro': 0.7918660287081339, 'eval_f1_macro': 0.7618056314950836, 'eval_f1_class_0': 0.8109756097560976, 'eval_f1_class_1': 0.6666666666666666, 'eval_f1_class_2': 0.8185328185328186, 'eval_f1_class_3': 0.7737226277372263, 'eval_f1_class_4': 0.7391304347826086, 'eval_runtime': 0.3286, 'eval_samples_per_second': 1272.167, 'eval_steps_per_second': 82.173, 'epoch': 3.0}\n",
      "{'loss': 0.8261, 'grad_norm': 18.217479705810547, 'learning_rate': 1.5277777777777777e-05, 'epoch': 3.12}\n"
     ]
    },
    {
     "data": {
      "application/vnd.jupyter.widget-view+json": {
       "model_id": "9329b45cf84449af959f6ad2f2bb469b",
       "version_major": 2,
       "version_minor": 0
      },
      "text/plain": [
       "  0%|          | 0/27 [00:00<?, ?it/s]"
      ]
     },
     "metadata": {},
     "output_type": "display_data"
    },
    {
     "name": "stdout",
     "output_type": "stream",
     "text": [
      "{'eval_loss': 0.585721492767334, 'eval_f1_micro': 0.8181818181818182, 'eval_f1_macro': 0.7988224712533097, 'eval_f1_class_0': 0.8165680473372781, 'eval_f1_class_1': 0.7, 'eval_f1_class_2': 0.8473282442748091, 'eval_f1_class_3': 0.8217054263565892, 'eval_f1_class_4': 0.8085106382978723, 'eval_runtime': 0.3396, 'eval_samples_per_second': 1230.786, 'eval_steps_per_second': 79.501, 'epoch': 4.0}\n"
     ]
    },
    {
     "data": {
      "application/vnd.jupyter.widget-view+json": {
       "model_id": "8fa5407c28d84920a70dc2cc1c91343f",
       "version_major": 2,
       "version_minor": 0
      },
      "text/plain": [
       "  0%|          | 0/27 [00:00<?, ?it/s]"
      ]
     },
     "metadata": {},
     "output_type": "display_data"
    },
    {
     "name": "stdout",
     "output_type": "stream",
     "text": [
      "{'eval_loss': 0.5684570074081421, 'eval_f1_micro': 0.8325358851674641, 'eval_f1_macro': 0.8039699050351847, 'eval_f1_class_0': 0.84593837535014, 'eval_f1_class_1': 0.6875, 'eval_f1_class_2': 0.8571428571428571, 'eval_f1_class_3': 0.8292682926829268, 'eval_f1_class_4': 0.8, 'eval_runtime': 0.3408, 'eval_samples_per_second': 1226.432, 'eval_steps_per_second': 79.219, 'epoch': 5.0}\n"
     ]
    },
    {
     "data": {
      "application/vnd.jupyter.widget-view+json": {
       "model_id": "88e999ead9784148bc0267870dd99a91",
       "version_major": 2,
       "version_minor": 0
      },
      "text/plain": [
       "  0%|          | 0/27 [00:00<?, ?it/s]"
      ]
     },
     "metadata": {},
     "output_type": "display_data"
    },
    {
     "name": "stdout",
     "output_type": "stream",
     "text": [
      "{'eval_loss': 0.5643013119697571, 'eval_f1_micro': 0.8253588516746412, 'eval_f1_macro': 0.809126676237437, 'eval_f1_class_0': 0.8303030303030303, 'eval_f1_class_1': 0.7096774193548387, 'eval_f1_class_2': 0.8487084870848709, 'eval_f1_class_3': 0.8125, 'eval_f1_class_4': 0.8444444444444444, 'eval_runtime': 0.3353, 'eval_samples_per_second': 1246.51, 'eval_steps_per_second': 80.516, 'epoch': 6.0}\n",
      "{'loss': 0.2547, 'grad_norm': 14.743159294128418, 'learning_rate': 8.333333333333334e-06, 'epoch': 6.25}\n"
     ]
    },
    {
     "data": {
      "application/vnd.jupyter.widget-view+json": {
       "model_id": "71a21cd6428141ff90242e82b25e7c53",
       "version_major": 2,
       "version_minor": 0
      },
      "text/plain": [
       "  0%|          | 0/27 [00:00<?, ?it/s]"
      ]
     },
     "metadata": {},
     "output_type": "display_data"
    },
    {
     "name": "stdout",
     "output_type": "stream",
     "text": [
      "{'eval_loss': 0.649755597114563, 'eval_f1_micro': 0.8205741626794258, 'eval_f1_macro': 0.8095172426491211, 'eval_f1_class_0': 0.8184615384615385, 'eval_f1_class_1': 0.7384615384615385, 'eval_f1_class_2': 0.8401486988847584, 'eval_f1_class_3': 0.8244274809160306, 'eval_f1_class_4': 0.8260869565217391, 'eval_runtime': 0.3389, 'eval_samples_per_second': 1233.287, 'eval_steps_per_second': 79.662, 'epoch': 7.0}\n"
     ]
    },
    {
     "data": {
      "application/vnd.jupyter.widget-view+json": {
       "model_id": "e01d5a4a276c463e919984f060754115",
       "version_major": 2,
       "version_minor": 0
      },
      "text/plain": [
       "  0%|          | 0/27 [00:00<?, ?it/s]"
      ]
     },
     "metadata": {},
     "output_type": "display_data"
    },
    {
     "name": "stdout",
     "output_type": "stream",
     "text": [
      "{'eval_loss': 0.6689387559890747, 'eval_f1_micro': 0.8349282296650717, 'eval_f1_macro': 0.824638375888348, 'eval_f1_class_0': 0.8396501457725948, 'eval_f1_class_1': 0.7164179104477612, 'eval_f1_class_2': 0.8416988416988417, 'eval_f1_class_3': 0.8617886178861789, 'eval_f1_class_4': 0.8636363636363636, 'eval_runtime': 0.334, 'eval_samples_per_second': 1251.474, 'eval_steps_per_second': 80.837, 'epoch': 8.0}\n"
     ]
    },
    {
     "data": {
      "application/vnd.jupyter.widget-view+json": {
       "model_id": "4e83289cacec4ad0bcbcbfded973193a",
       "version_major": 2,
       "version_minor": 0
      },
      "text/plain": [
       "  0%|          | 0/27 [00:00<?, ?it/s]"
      ]
     },
     "metadata": {},
     "output_type": "display_data"
    },
    {
     "name": "stdout",
     "output_type": "stream",
     "text": [
      "{'eval_loss': 0.6825006604194641, 'eval_f1_micro': 0.8349282296650717, 'eval_f1_macro': 0.8226165829108402, 'eval_f1_class_0': 0.8396501457725948, 'eval_f1_class_1': 0.7076923076923077, 'eval_f1_class_2': 0.8449612403100775, 'eval_f1_class_3': 0.8571428571428571, 'eval_f1_class_4': 0.8636363636363636, 'eval_runtime': 0.3283, 'eval_samples_per_second': 1273.188, 'eval_steps_per_second': 82.239, 'epoch': 9.0}\n",
      "{'loss': 0.1137, 'grad_norm': 8.375455856323242, 'learning_rate': 1.3888888888888892e-06, 'epoch': 9.38}\n"
     ]
    },
    {
     "data": {
      "application/vnd.jupyter.widget-view+json": {
       "model_id": "553c3089bcba43b7897015ce24426d97",
       "version_major": 2,
       "version_minor": 0
      },
      "text/plain": [
       "  0%|          | 0/27 [00:00<?, ?it/s]"
      ]
     },
     "metadata": {},
     "output_type": "display_data"
    },
    {
     "name": "stdout",
     "output_type": "stream",
     "text": [
      "{'eval_loss': 0.6699915528297424, 'eval_f1_micro': 0.8349282296650717, 'eval_f1_macro': 0.824799089455659, 'eval_f1_class_0': 0.8377581120943953, 'eval_f1_class_1': 0.7272727272727273, 'eval_f1_class_2': 0.8473282442748091, 'eval_f1_class_3': 0.848, 'eval_f1_class_4': 0.8636363636363636, 'eval_runtime': 0.3362, 'eval_samples_per_second': 1243.374, 'eval_steps_per_second': 80.314, 'epoch': 10.0}\n",
      "{'train_runtime': 90.2423, 'train_samples_per_second': 283.57, 'train_steps_per_second': 17.73, 'train_loss': 0.3779454255104065, 'epoch': 10.0}\n"
     ]
    },
    {
     "data": {
      "application/vnd.jupyter.widget-view+json": {
       "model_id": "43d8c50ebac9437f8f58fe85415ce6f0",
       "version_major": 2,
       "version_minor": 0
      },
      "text/plain": [
       "  0%|          | 0/47 [00:00<?, ?it/s]"
      ]
     },
     "metadata": {},
     "output_type": "display_data"
    }
   ],
   "source": [
    "seeds = [358951513, 487384551, 132591638, 359790194, 380316365]\n",
    "all_results = []\n",
    "\n",
    "for seed in seeds:\n",
    "    results = run_experiment(seed)\n",
    "    all_results.append(results)"
   ]
  },
  {
   "cell_type": "code",
   "execution_count": 10,
   "metadata": {},
   "outputs": [
    {
     "name": "stdout",
     "output_type": "stream",
     "text": [
      "Average test_f1_micro: 0.8000 ± 0.0167\n",
      "Average test_f1_macro: 0.7977 ± 0.0212\n",
      "Average test_f1_class_0: 0.8011 ± 0.0215\n",
      "Average test_f1_class_1: 0.8147 ± 0.0250\n",
      "Average test_f1_class_2: 0.8293 ± 0.0149\n",
      "Average test_f1_class_3: 0.6778 ± 0.0288\n",
      "Average test_f1_class_4: 0.8655 ± 0.0403\n"
     ]
    }
   ],
   "source": [
    "# Calculate mean and std of F1 scores\n",
    "metrics = [\"test_f1_micro\", \"test_f1_macro\"] + [f\"test_f1_class_{i}\" for i in range(5)]  # Adjust range based on num_classes\n",
    "\n",
    "avg_results = {}\n",
    "for metric in metrics:\n",
    "    scores = [r[metric] for r in [x.metrics for x in all_results]]\n",
    "    avg_results[metric] = {\n",
    "        'mean': np.mean(scores),\n",
    "        'std': np.std(scores)\n",
    "    }\n",
    "\n",
    "# Print results\n",
    "for metric in metrics:\n",
    "    print(f\"Average {metric}: {avg_results[metric]['mean']:.4f} ± {avg_results[metric]['std']:.4f}\")"
   ]
  }
 ],
 "metadata": {
  "kernelspec": {
   "display_name": "default",
   "language": "python",
   "name": "python3"
  },
  "language_info": {
   "codemirror_mode": {
    "name": "ipython",
    "version": 3
   },
   "file_extension": ".py",
   "mimetype": "text/x-python",
   "name": "python",
   "nbconvert_exporter": "python",
   "pygments_lexer": "ipython3",
   "version": "3.11.9"
  }
 },
 "nbformat": 4,
 "nbformat_minor": 2
}
